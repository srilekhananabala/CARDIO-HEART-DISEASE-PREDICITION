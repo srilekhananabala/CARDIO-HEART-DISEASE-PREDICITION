{
  "nbformat": 4,
  "nbformat_minor": 0,
  "metadata": {
    "colab": {
      "provenance": []
    },
    "kernelspec": {
      "name": "python3",
      "display_name": "Python 3"
    },
    "language_info": {
      "name": "python"
    }
  },
  "cells": [
    {
      "cell_type": "code",
      "source": [
        "import pandas as pd\n",
        "from sklearn.ensemble import RandomForestClassifier\n",
        "from sklearn.model_selection import GridSearchCV, train_test_split\n",
        "from sklearn.metrics import accuracy_score\n",
        "from sklearn.preprocessing import StandardScaler\n"
      ],
      "metadata": {
        "id": "_4-v7bZ0xyct"
      },
      "execution_count": 1,
      "outputs": []
    },
    {
      "cell_type": "code",
      "source": [
        "# Loading the data\n",
        "df = pd.read_csv('/content/framingham.csv')"
      ],
      "metadata": {
        "id": "wXgFHafhx5_x"
      },
      "execution_count": 2,
      "outputs": []
    },
    {
      "cell_type": "code",
      "source": [
        "# Drop the rows with missing values for simplicity\n",
        "df = df.dropna()\n",
        "\n",
        "# Split the dataset into features (X) and target variable (y)\n",
        "X = df.drop('TenYearCHD', axis=1)\n",
        "y = df['TenYearCHD']"
      ],
      "metadata": {
        "id": "kMZWaxydyHo-"
      },
      "execution_count": 3,
      "outputs": []
    },
    {
      "cell_type": "code",
      "source": [
        "# Splitting  the data into training set  and testing set\n",
        "X_train, X_test, y_train, y_test = train_test_split(X, y, test_size=0.2, random_state=42)\n",
        "\n",
        "# Standardize the features by scaling them\n",
        "scaler = StandardScaler()\n",
        "X_train_scaled = scaler.fit_transform(X_train)\n",
        "X_test_scaled = scaler.transform(X_test)"
      ],
      "metadata": {
        "id": "-5J87byFyjBx"
      },
      "execution_count": 4,
      "outputs": []
    },
    {
      "cell_type": "code",
      "source": [
        "# Define the Random Forest classifier\n",
        "random_forest = RandomForestClassifier(random_state=42)\n",
        "\n",
        "# Define the grid of hyperparameters to search\n",
        "param_grid = {\n",
        "    'n_estimators': [50, 100, 200],\n",
        "    'max_depth': [5, 10, 15],  # Reducing the maximum depth of the trees\n",
        "    'min_samples_split': [5, 10, 15],  # Increasing the minimum number of samples required to split a node\n",
        "    'min_samples_leaf': [1, 2, 4]  # Increasing the minimum number of samples required to be at a leaf node\n",
        "}\n"
      ],
      "metadata": {
        "id": "-LC2cEZbywin"
      },
      "execution_count": 5,
      "outputs": []
    },
    {
      "cell_type": "code",
      "source": [
        "# Perform grid search with cross-validation\n",
        "grid_search = GridSearchCV(estimator=random_forest, param_grid=param_grid, cv=5, scoring='accuracy', n_jobs=-1)\n",
        "grid_search.fit(X_train_scaled, y_train)\n",
        "\n",
        "# Get the best parameters and the best score\n",
        "best_params = grid_search.best_params_\n",
        "best_score = grid_search.best_score_\n",
        "\n",
        "print(\"Best Parameters:\", best_params)\n",
        "print(\"Best Accuracy Score:\", best_score)"
      ],
      "metadata": {
        "colab": {
          "base_uri": "https://localhost:8080/"
        },
        "id": "0QnmkApsy4NS",
        "outputId": "8b04f516-e7db-4446-b548-4c2a70971564"
      },
      "execution_count": 6,
      "outputs": [
        {
          "output_type": "stream",
          "name": "stdout",
          "text": [
            "Best Parameters: {'max_depth': 10, 'min_samples_leaf': 4, 'min_samples_split': 5, 'n_estimators': 100}\n",
            "Best Accuracy Score: 0.8526997462151046\n"
          ]
        }
      ]
    },
    {
      "cell_type": "code",
      "source": [
        "# Use the best model for prediction\n",
        "best_random_forest = grid_search.best_estimator_\n",
        "y_pred = best_random_forest.predict(X_test_scaled)\n",
        "\n",
        "# Calculate accuracy on testing data\n",
        "test_accuracy = accuracy_score(y_test, y_pred)\n",
        "print(\"Testing Accuracy:\", test_accuracy)"
      ],
      "metadata": {
        "colab": {
          "base_uri": "https://localhost:8080/"
        },
        "id": "wYTK_Kyzy_1a",
        "outputId": "859a9fe5-fed2-4749-8c26-146d330c7781"
      },
      "execution_count": 8,
      "outputs": [
        {
          "output_type": "stream",
          "name": "stdout",
          "text": [
            "Testing Accuracy: 0.8346994535519126\n"
          ]
        }
      ]
    },
    {
      "cell_type": "code",
      "source": [
        " #Fit the model to the training data\n",
        "best_random_forest.fit(X_train_scaled, y_train)\n",
        "\n",
        "# Predictions on training data\n",
        "y_train_pred = best_random_forest.predict(X_train_scaled)\n",
        "\n",
        "# Calculate accuracy on training data\n",
        "train_accuracy = accuracy_score(y_train, y_train_pred)\n",
        "\n",
        "print(\"Training Accuracy:\", train_accuracy)"
      ],
      "metadata": {
        "colab": {
          "base_uri": "https://localhost:8080/"
        },
        "id": "P5DXrgMUzE7r",
        "outputId": "8fa01782-a34e-4c09-f9b7-3cfd09acad24"
      },
      "execution_count": 9,
      "outputs": [
        {
          "output_type": "stream",
          "name": "stdout",
          "text": [
            "Training Accuracy: 0.8735475051264525\n"
          ]
        }
      ]
    },
    {
      "cell_type": "code",
      "source": [
        "from xgboost import XGBClassifier\n",
        "from sklearn.model_selection import GridSearchCV\n",
        "from sklearn.metrics import accuracy_score\n",
        "\n",
        "# Define the XGBoost classifier\n",
        "xgb_classifier = XGBClassifier(random_state=42)\n",
        "\n",
        "# Define the grid of hyperparameters to search\n",
        "param_grid = {\n",
        "    'n_estimators': [50, 100, 200],\n",
        "    'max_depth': [5, 10, 15],\n",
        "    'learning_rate': [0.01, 0.1, 0.2],  # Add learning rate as a hyperparameter\n",
        "    'min_child_weight': [1, 2, 4],  # Add min_child_weight as a hyperparameter\n",
        "    'subsample': [0.5, 0.7, 1.0],  # Add subsample as a hyperparameter\n",
        "    'colsample_bytree': [0.5, 0.7, 1.0]  # Add colsample_bytree as a hyperparameter\n",
        "}\n",
        "\n",
        "# Perform grid search with cross-validation\n",
        "grid_search = GridSearchCV(estimator=xgb_classifier, param_grid=param_grid, cv=5, scoring='accuracy', n_jobs=-1)\n",
        "grid_search.fit(X_train_scaled, y_train)\n",
        "\n",
        "# Get the best parameters and the best score\n",
        "best_params = grid_search.best_params_\n",
        "best_score = grid_search.best_score_\n",
        "\n",
        "print(\"Best Parameters:\", best_params)\n",
        "print(\"Best Accuracy Score:\", best_score)\n",
        "\n",
        "# Use the best model for prediction\n",
        "best_xgb_classifier = grid_search.best_estimator_\n",
        "y_pred = best_xgb_classifier.predict(X_test_scaled)\n",
        "\n",
        "# Calculate accuracy on testing data\n",
        "test_accuracy = accuracy_score(y_test, y_pred)\n",
        "print(\"Testing Accuracy:\", test_accuracy)\n",
        "\n",
        "# Fit the model to the training data\n",
        "best_xgb_classifier.fit(X_train_scaled, y_train)\n",
        "\n",
        "# Predictions on training data\n",
        "y_train_pred = best_xgb_classifier.predict(X_train_scaled)\n",
        "\n",
        "# Calculate accuracy on training data\n",
        "train_accuracy = accuracy_score(y_train, y_train_pred)\n",
        "\n",
        "print(\"Training Accuracy:\", train_accuracy)\n"
      ],
      "metadata": {
        "colab": {
          "base_uri": "https://localhost:8080/"
        },
        "id": "CW7nt3iUAZyU",
        "outputId": "773c37f0-159c-43e3-ea67-47a80de0b540"
      },
      "execution_count": 10,
      "outputs": [
        {
          "output_type": "stream",
          "name": "stdout",
          "text": [
            "Best Parameters: {'colsample_bytree': 1.0, 'learning_rate': 0.01, 'max_depth': 5, 'min_child_weight': 4, 'n_estimators': 200, 'subsample': 0.7}\n",
            "Best Accuracy Score: 0.8544073976838481\n",
            "Testing Accuracy: 0.8360655737704918\n",
            "Training Accuracy: 0.8615857826384142\n"
          ]
        }
      ]
    }
  ]
}